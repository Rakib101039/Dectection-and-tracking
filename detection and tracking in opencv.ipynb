{
 "cells": [
  {
   "cell_type": "code",
   "execution_count": 1,
   "metadata": {},
   "outputs": [],
   "source": [
    "import cv2\n",
    "import numpy as np"
   ]
  },
  {
   "cell_type": "code",
   "execution_count": 15,
   "metadata": {},
   "outputs": [
    {
     "name": "stdout",
     "output_type": "stream",
     "text": [
      "No of contours=9\n",
      "[[[158 637]]\n",
      "\n",
      " [[157 638]]\n",
      "\n",
      " [[156 638]]\n",
      "\n",
      " [[155 638]]\n",
      "\n",
      " [[154 638]]\n",
      "\n",
      " [[153 638]]\n",
      "\n",
      " [[152 638]]\n",
      "\n",
      " [[151 639]]\n",
      "\n",
      " [[150 639]]\n",
      "\n",
      " [[149 640]]\n",
      "\n",
      " [[148 640]]\n",
      "\n",
      " [[147 641]]\n",
      "\n",
      " [[147 642]]\n",
      "\n",
      " [[146 643]]\n",
      "\n",
      " [[146 644]]\n",
      "\n",
      " [[145 645]]\n",
      "\n",
      " [[145 646]]\n",
      "\n",
      " [[145 647]]\n",
      "\n",
      " [[145 648]]\n",
      "\n",
      " [[144 649]]\n",
      "\n",
      " [[144 650]]\n",
      "\n",
      " [[144 651]]\n",
      "\n",
      " [[144 652]]\n",
      "\n",
      " [[144 653]]\n",
      "\n",
      " [[144 654]]\n",
      "\n",
      " [[144 655]]\n",
      "\n",
      " [[144 656]]\n",
      "\n",
      " [[144 657]]\n",
      "\n",
      " [[143 658]]\n",
      "\n",
      " [[143 659]]\n",
      "\n",
      " [[143 660]]\n",
      "\n",
      " [[143 661]]\n",
      "\n",
      " [[143 662]]\n",
      "\n",
      " [[143 663]]\n",
      "\n",
      " [[143 664]]\n",
      "\n",
      " [[143 665]]\n",
      "\n",
      " [[143 666]]\n",
      "\n",
      " [[143 667]]\n",
      "\n",
      " [[143 668]]\n",
      "\n",
      " [[144 669]]\n",
      "\n",
      " [[144 670]]\n",
      "\n",
      " [[144 671]]\n",
      "\n",
      " [[144 672]]\n",
      "\n",
      " [[144 673]]\n",
      "\n",
      " [[144 674]]\n",
      "\n",
      " [[144 675]]\n",
      "\n",
      " [[144 676]]\n",
      "\n",
      " [[144 677]]\n",
      "\n",
      " [[145 678]]\n",
      "\n",
      " [[145 679]]\n",
      "\n",
      " [[145 680]]\n",
      "\n",
      " [[145 681]]\n",
      "\n",
      " [[146 682]]\n",
      "\n",
      " [[146 683]]\n",
      "\n",
      " [[147 684]]\n",
      "\n",
      " [[148 685]]\n",
      "\n",
      " [[149 686]]\n",
      "\n",
      " [[150 687]]\n",
      "\n",
      " [[151 687]]\n",
      "\n",
      " [[152 687]]\n",
      "\n",
      " [[153 688]]\n",
      "\n",
      " [[154 688]]\n",
      "\n",
      " [[155 688]]\n",
      "\n",
      " [[156 688]]\n",
      "\n",
      " [[157 688]]\n",
      "\n",
      " [[158 689]]\n",
      "\n",
      " [[159 689]]\n",
      "\n",
      " [[160 689]]\n",
      "\n",
      " [[161 689]]\n",
      "\n",
      " [[162 689]]\n",
      "\n",
      " [[163 689]]\n",
      "\n",
      " [[164 689]]\n",
      "\n",
      " [[165 688]]\n",
      "\n",
      " [[166 688]]\n",
      "\n",
      " [[167 688]]\n",
      "\n",
      " [[168 688]]\n",
      "\n",
      " [[169 688]]\n",
      "\n",
      " [[170 688]]\n",
      "\n",
      " [[171 687]]\n",
      "\n",
      " [[172 687]]\n",
      "\n",
      " [[173 686]]\n",
      "\n",
      " [[174 686]]\n",
      "\n",
      " [[175 685]]\n",
      "\n",
      " [[175 684]]\n",
      "\n",
      " [[176 683]]\n",
      "\n",
      " [[176 682]]\n",
      "\n",
      " [[177 681]]\n",
      "\n",
      " [[177 680]]\n",
      "\n",
      " [[177 679]]\n",
      "\n",
      " [[178 678]]\n",
      "\n",
      " [[178 677]]\n",
      "\n",
      " [[178 676]]\n",
      "\n",
      " [[178 675]]\n",
      "\n",
      " [[178 674]]\n",
      "\n",
      " [[178 673]]\n",
      "\n",
      " [[178 672]]\n",
      "\n",
      " [[178 671]]\n",
      "\n",
      " [[178 670]]\n",
      "\n",
      " [[178 669]]\n",
      "\n",
      " [[179 668]]\n",
      "\n",
      " [[179 667]]\n",
      "\n",
      " [[179 666]]\n",
      "\n",
      " [[179 665]]\n",
      "\n",
      " [[179 664]]\n",
      "\n",
      " [[179 663]]\n",
      "\n",
      " [[179 662]]\n",
      "\n",
      " [[179 661]]\n",
      "\n",
      " [[179 660]]\n",
      "\n",
      " [[179 659]]\n",
      "\n",
      " [[179 658]]\n",
      "\n",
      " [[178 657]]\n",
      "\n",
      " [[178 656]]\n",
      "\n",
      " [[178 655]]\n",
      "\n",
      " [[178 654]]\n",
      "\n",
      " [[178 653]]\n",
      "\n",
      " [[178 652]]\n",
      "\n",
      " [[178 651]]\n",
      "\n",
      " [[178 650]]\n",
      "\n",
      " [[178 649]]\n",
      "\n",
      " [[178 648]]\n",
      "\n",
      " [[177 647]]\n",
      "\n",
      " [[177 646]]\n",
      "\n",
      " [[177 645]]\n",
      "\n",
      " [[176 644]]\n",
      "\n",
      " [[176 643]]\n",
      "\n",
      " [[175 642]]\n",
      "\n",
      " [[175 641]]\n",
      "\n",
      " [[174 640]]\n",
      "\n",
      " [[173 640]]\n",
      "\n",
      " [[172 639]]\n",
      "\n",
      " [[171 639]]\n",
      "\n",
      " [[170 639]]\n",
      "\n",
      " [[169 638]]\n",
      "\n",
      " [[168 638]]\n",
      "\n",
      " [[167 638]]\n",
      "\n",
      " [[166 638]]\n",
      "\n",
      " [[165 638]]\n",
      "\n",
      " [[164 637]]\n",
      "\n",
      " [[163 637]]\n",
      "\n",
      " [[162 637]]\n",
      "\n",
      " [[161 637]]\n",
      "\n",
      " [[160 637]]\n",
      "\n",
      " [[159 637]]]\n"
     ]
    }
   ],
   "source": [
    "img = cv2.imread('F:/Machine leanring/another dataset/opencv-master/samples/data/opencv-logo.png')\n",
    "imgray = cv2.cvtColor(img, cv2.COLOR_BGR2GRAY)\n",
    "ret, thresh = cv2.threshold(imgray, 127, 255, 0)\n",
    "contours, hierarchy= cv2.findContours(thresh, cv2.RETR_TREE, cv2.CHAIN_APPROX_NONE)\n",
    "print(\"No of contours=\" +str(len(contours)))\n",
    "print(contours[0])\n",
    "cv2.drawContours(img, contours, -1, (0, 255, 0), 3)\n",
    "## -1 indicate I want to show all contours. if I would give 0 then it would give 1st contour\n",
    "## similarly 1, 2,3.... can be used upto for 9 contours\n",
    "##(0, 255, 0) is if i want see contours in green color \n",
    "\n",
    "cv2.imshow('original Image', img)\n",
    "cv2.imshow('gray Image', imgray)\n",
    "\n",
    "cv2.waitKey(0)\n",
    "cv2.destroyAllWindows()"
   ]
  },
  {
   "cell_type": "code",
   "execution_count": 16,
   "metadata": {},
   "outputs": [],
   "source": [
    "##Basic motion detection "
   ]
  },
  {
   "cell_type": "code",
   "execution_count": 2,
   "metadata": {},
   "outputs": [],
   "source": [
    "import cv2\n",
    "import numpy as np"
   ]
  },
  {
   "cell_type": "code",
   "execution_count": 21,
   "metadata": {},
   "outputs": [],
   "source": [
    "cap = cv2.VideoCapture('F:/Video on DL/Object Detection.mp4')\n",
    "ret, frame1 = cap.read()\n",
    "ret, frame2 = cap.read()\n",
    "\n",
    "while cap.isOpened():\n",
    "    diff = cv2.absdiff(frame1, frame2)\n",
    "    gray = cv2.cvtColor(diff, cv2.COLOR_BGR2GRAY)\n",
    "    blur = cv2.GaussianBlur(gray, (5,5), 0) ## let(5,5) is the kernel size\n",
    "    _, thres = cv2.threshold(blur, 20, 255, cv2.THRESH_BINARY)\n",
    "    dilated= cv2.dilate(thres, None, iterations=3) ## let kernel size is none\n",
    "    contours, _ = cv2.findContours(dilated, cv2.RETR_TREE, cv2.CHAIN_APPROX_SIMPLE)\n",
    "    \n",
    "    cv2.drawContours(frame1, contours, -1, (0, 255, 0), 2) ## let contour id is -1 and thickness 2\n",
    "\n",
    "    cv2.imshow(\"new\", frame1)\n",
    "    frame1 = frame2\n",
    "    ret, frame2 = cap.read()\n",
    "    \n",
    "    if cv2.waitKey(40)==27:\n",
    "        break\n",
    "        \n",
    "cv2.destroyAllWindows()\n",
    "cap.release()\n",
    "\n"
   ]
  },
  {
   "cell_type": "code",
   "execution_count": null,
   "metadata": {},
   "outputs": [],
   "source": [
    "cap = cv2.VideoCapture('F:/Video on DL/Object Detection.mp4')\n",
    "ret, frame1 = cap.read()\n",
    "ret, frame2 = cap.read()\n",
    "\n",
    "while cap.isOpened():\n",
    "    diff = cv2.absdiff(frame1, frame2)\n",
    "    gray = cv2.cvtColor(diff, cv2.COLOR_BGR2GRAY)\n",
    "    blur = cv2.GaussianBlur(gray, (5,5), 0) ## let(5,5) is the kernel size\n",
    "    _, thres = cv2.threshold(blur, 20, 255, cv2.THRESH_BINARY)\n",
    "    dilated= cv2.dilate(thres, None, iterations=3) ## let kernel size is none\n",
    "    contours, _ = cv2.findContours(dilated, cv2.RETR_TREE, cv2.CHAIN_APPROX_SIMPLE)\n",
    "    \n",
    "    for contour in contours:\n",
    "        (x, y, w, h)= cv2.boundingRect(contour)\n",
    "        \n",
    "        if cv2.contourArea(contour)<1000:\n",
    "            continue\n",
    "        cv2.rectangle(frame1, (x, y), (x+2*w, y+2*h), (255, 255,0), 2)\n",
    "        cv2.putText(frame1, \"Status: {}\".format('Movement'), (10,20), cv2.FONT_HERSHEY_SIMPLEX,\n",
    "                   1, (0, 0, 255), 3)\n",
    "    \n",
    "    ##cv2.drawContours(frame1, contours, -1, (0, 255, 0), 2) ## let contour id is -1 and thickness 2\n",
    "\n",
    "    cv2.imshow(\"new\", frame1)\n",
    "    \n",
    "    frame1 = frame2\n",
    "    ret, frame2 = cap.read()\n",
    "    \n",
    "    if cv2.waitKey(40)==27:\n",
    "        break\n",
    "        \n",
    "cv2.destroyAllWindows()\n",
    "cap.release()"
   ]
  },
  {
   "cell_type": "code",
   "execution_count": null,
   "metadata": {},
   "outputs": [],
   "source": [
    "##Shape detection"
   ]
  },
  {
   "cell_type": "code",
   "execution_count": 4,
   "metadata": {},
   "outputs": [],
   "source": [
    "import numpy as np\n",
    "import cv2"
   ]
  },
  {
   "cell_type": "code",
   "execution_count": 21,
   "metadata": {},
   "outputs": [
    {
     "name": "stdout",
     "output_type": "stream",
     "text": [
      "1.0\n",
      "1.1125\n",
      "0.45\n"
     ]
    }
   ],
   "source": [
    "img = cv2.imread('F:/Machine leanring/another dataset/opencv-master/samples/data/shapes.png')\n",
    "imgray = cv2.cvtColor(img, cv2.COLOR_BGR2GRAY)\n",
    "_,thres = cv2.threshold(imgray, 50, 255, cv2.THRESH_BINARY)\n",
    "contours,_= cv2.findContours(thres, cv2.RETR_TREE, cv2.CHAIN_APPROX_NONE)\n",
    "for contour in contours:\n",
    "    approx = cv2.approxPolyDP(contour, 0.01*cv2.arcLength(contour, True), True)\n",
    "    cv2.drawContours(img, [approx],0, (255, 255, 0), 10)\n",
    "    x= approx.ravel()[0]\n",
    "    y= approx.ravel()[1]\n",
    "    if len(approx)==3:\n",
    "        cv2.putText(img, \"Triange\", (x,y), cv2.FONT_HERSHEY_COMPLEX, 0.5, (0, 0,255))\n",
    "    \n",
    "    elif len(approx)==4:\n",
    "        x1, y1, w, h= cv2.boundingRect(approx)\n",
    "        aspectratio = float(w)/h\n",
    "        print(aspectratio)\n",
    "        \n",
    "        if aspectratio >= 0.95 and aspectratio<= 1.05:\n",
    "            cv2.putText(img, \"square\", (x,y), cv2.FONT_HERSHEY_COMPLEX, 0.5, (0, 0,255))\n",
    "        else:\n",
    "            cv2.putText(img, \"Rectangle\", (x,y), cv2.FONT_HERSHEY_COMPLEX, 0.5, (0, 0,255))\n",
    "    \n",
    "    elif len(approx)==5:\n",
    "        cv2.putText(img, \"Pentagon\", (x,y), cv2.FONT_HERSHEY_COMPLEX, 0.5, (0, 0,255))\n",
    "    \n",
    "    elif len(approx)==6:\n",
    "        cv2.putText(img, \"Hexagoan\", (x,y), cv2.FONT_HERSHEY_COMPLEX, 0.5, (0, 0,255))\n",
    "        \n",
    "    elif len(approx)==10:\n",
    "        cv2.putText(img, \"Star\", (x,y), cv2.FONT_HERSHEY_COMPLEX, 0.5, (0, 0,255))\n",
    "    else:\n",
    "        cv2.putText(img, \"circle\", (x,y), cv2.FONT_HERSHEY_COMPLEX, 0.5, (0, 0,255))\n",
    "\n",
    "cv2.imshow(\"shape\", img)\n",
    "cv2.waitKey(0)\n",
    "cv2.destroyAllWindows()"
   ]
  },
  {
   "cell_type": "code",
   "execution_count": 22,
   "metadata": {},
   "outputs": [],
   "source": [
    "##Histogram in Opencv"
   ]
  },
  {
   "cell_type": "code",
   "execution_count": 23,
   "metadata": {},
   "outputs": [],
   "source": [
    "import numpy as np\n",
    "import cv2\n",
    "import matplotlib.pyplot as plt"
   ]
  },
  {
   "cell_type": "code",
   "execution_count": 33,
   "metadata": {},
   "outputs": [
    {
     "data": {
      "image/png": "[encoded data removed]",
      "text/plain": [
       "<Figure size 432x288 with 1 Axes>"
      ]
     },
     "metadata": {
      "needs_background": "light"
     },
     "output_type": "display_data"
    }
   ],
   "source": [
    "img = np.zeros((200, 200), np.uint8)\n",
    "cv2.rectangle(img, (0, 100), (200, 200), (255), -1)\n",
    "cv2.rectangle(img, (0, 50), (100, 100), (127), -1)\n",
    "cv2.imshow(\"image\", img)\n",
    "plt.hist(img.ravel(), 256, [0, 256])\n",
    "plt.show()\n",
    "\n",
    "\n",
    "\n",
    "\n",
    "cv2.waitKey(0)\n",
    "cv2.destroyAllWindows()"
   ]
  },
  {
   "cell_type": "code",
   "execution_count": 42,
   "metadata": {},
   "outputs": [
    {
     "data": {
      "image/png": "[encoded data removed]",
      "text/plain": [
       "<Figure size 432x288 with 1 Axes>"
      ]
     },
     "metadata": {
      "needs_background": "light"
     },
     "output_type": "display_data"
    }
   ],
   "source": [
    "img = cv2.imread('F:/Machine leanring/another dataset/opencv-master/samples/data/lena.jpg')\n",
    "\n",
    "b, g, r = cv2.split(img)\n",
    "\n",
    "cv2.imshow(\"Lena\", img)\n",
    "cv2.imshow(\"b\", b)\n",
    "cv2.imshow(\"g\", g)\n",
    "cv2.imshow(\"r\", r)\n",
    "\n",
    "plt.hist(img.ravel(), 256, [0, 256])\n",
    "plt.hist(b.ravel(), 256, [0, 256])\n",
    "plt.hist(g.ravel(), 256, [0, 256])\n",
    "plt.hist(r.ravel(), 256, [0, 256])\n",
    "\n",
    "plt.show()\n",
    "\n",
    "cv2.waitKey(0)\n",
    "cv2.destroyAllWindows()"
   ]
  },
  {
   "cell_type": "code",
   "execution_count": 47,
   "metadata": {},
   "outputs": [
    {
     "data": {
      "image/png": "[encoded data removed]",
      "text/plain": [
       "<Figure size 432x288 with 1 Axes>"
      ]
     },
     "metadata": {
      "needs_background": "light"
     },
     "output_type": "display_data"
    }
   ],
   "source": [
    "img = cv2.imread('F:/Machine leanring/another dataset/opencv-master/samples/data/lena.jpg',0)\n",
    "\n",
    "hist = cv2.calcHist([img], [0], None, [256], [0, 256])\n",
    "plt.plot(hist)\n",
    "\n",
    "plt.show()\n",
    "\n",
    "cv2.waitKey(0)\n",
    "cv2.destroyAllWindows()"
   ]
  },
  {
   "cell_type": "code",
   "execution_count": null,
   "metadata": {},
   "outputs": [],
   "source": [
    "## Template Matching"
   ]
  },
  {
   "cell_type": "code",
   "execution_count": 50,
   "metadata": {},
   "outputs": [],
   "source": [
    "import cv2\n",
    "import matplotlib.pyplot as plt\n",
    "import numpy as np"
   ]
  },
  {
   "cell_type": "code",
   "execution_count": 68,
   "metadata": {},
   "outputs": [
    {
     "name": "stdout",
     "output_type": "stream",
     "text": [
      "[[ 0.01380845  0.02479484  0.03535112 ... -0.05408011 -0.05574387\n",
      "  -0.05815575]\n",
      " [ 0.02380739  0.0335832   0.04208622 ... -0.05782254 -0.05897278\n",
      "  -0.06089843]\n",
      " [ 0.03375706  0.04220348  0.04891755 ... -0.05762022 -0.05806245\n",
      "  -0.05928414]\n",
      " ...\n",
      " [ 0.25707054  0.25673997  0.25674888 ...  0.11351186  0.11057172\n",
      "   0.10734329]\n",
      " [ 0.26150027  0.26109123  0.2609631  ...  0.1075275   0.10573711\n",
      "   0.10328133]\n",
      " [ 0.2668764   0.26670292  0.2664186  ...  0.10178999  0.10122118\n",
      "   0.09898153]]\n",
      "(array([47, 47, 47, 47, 47, 48, 48, 48, 48, 48, 49, 49, 49, 49, 50, 50],\n",
      "      dtype=int64), array([185, 186, 187, 188, 189, 185, 186, 187, 188, 189, 186, 187, 188,\n",
      "       189, 187, 188], dtype=int64))\n"
     ]
    }
   ],
   "source": [
    "img = cv2.imread('F:/Machine leanring/another dataset/opencv-master/samples/data/messi5.jpg')\n",
    "imgray = cv2.cvtColor(img, cv2.COLOR_BGR2GRAY)\n",
    "img1 = cv2.imread('F:/Machine leanring/another dataset/opencv-master/samples/data/mess_face.jpg', 0)\n",
    "\n",
    "matched = cv2.matchTemplate(imgray, img1, cv2.TM_CCOEFF_NORMED)\n",
    "print(matched)\n",
    "thres = 0.51;\n",
    "loc = np.where(matched>= thres)\n",
    "print(loc)\n",
    "w, h = img1.shape[::-1]\n",
    "for pt in zip(*loc[::-1]):\n",
    "    cv2.rectangle(img, pt, (pt[0]+w, pt[1]+h), (0 ,0 ,255), 2)\n",
    "     \n",
    "cv2.imshow(\"messi\", img)\n",
    "cv2.imshow(\"template\", img1)\n",
    "\n",
    "\n",
    "cv2.waitKey(0)\n",
    "cv2.destroyAllWindows()"
   ]
  },
  {
   "cell_type": "code",
   "execution_count": 2,
   "metadata": {},
   "outputs": [],
   "source": [
    "## Line detection using Hough line transform"
   ]
  },
  {
   "cell_type": "code",
   "execution_count": 3,
   "metadata": {},
   "outputs": [],
   "source": [
    "import cv2\n",
    "import numpy as np\n",
    "import matplotlib.pyplot as plt"
   ]
  },
  {
   "cell_type": "code",
   "execution_count": 20,
   "metadata": {},
   "outputs": [],
   "source": [
    "img = cv2.imread('F:/Machine leanring/another dataset/opencv-master/samples/data/sudoku.png')\n",
    "imgray = cv2.cvtColor(img, cv2.COLOR_BGR2GRAY)\n",
    "edges = cv2.Canny(imgray, 50, 150, apertureSize = 3 )\n",
    "cv2.imshow(\"Canny_image\", edges )\n",
    "lines = cv2.HoughLines(edges, 1, np.pi/180, 200)\n",
    "\n",
    "for line in lines:\n",
    "    rho, theta = line[0]\n",
    "    a =np.cos(theta)\n",
    "    b= np.sin(theta)\n",
    "    x0 = a*rho\n",
    "    y0 = b*rho\n",
    "    x1 = int(x0+1000*(-b))\n",
    "    y1 = int(y0+ 1000*(a))\n",
    "    x2 = int(x0-1000*(-b))\n",
    "    y2 = int(y0- 1000*(a))\n",
    "    cv2.line(img, (x1,y1), (x2,y2), (0,0,255), 2)\n",
    "\n",
    "\n",
    "    \n",
    "cv2.imshow(\"Image\", img)\n",
    "\n",
    "cv2.waitKey(0)\n",
    "cv2.destroyAllWindows()"
   ]
  },
  {
   "cell_type": "code",
   "execution_count": null,
   "metadata": {},
   "outputs": [],
   "source": []
  },
  {
   "cell_type": "code",
   "execution_count": 21,
   "metadata": {},
   "outputs": [],
   "source": [
    "img = cv2.imread('F:/Machine leanring/another dataset/opencv-master/samples/data/sudoku.png')\n",
    "imgray = cv2.cvtColor(img, cv2.COLOR_BGR2GRAY)\n",
    "edges = cv2.Canny(imgray, 50, 150, apertureSize = 3 )\n",
    "cv2.imshow(\"Canny_image\", edges )\n",
    "lines = cv2.HoughLinesP(edges, 1, np.pi/180, 100, minLineLength=100, maxLineGap =10)\n",
    "\n",
    "for line in lines:\n",
    "    x1, y1, x2, y2 = line[0]\n",
    "    cv2.line(img, (x1,y1), (x2,y2), (0,0,255), 2)\n",
    "\n",
    "\n",
    "    \n",
    "cv2.imshow(\"Image\", img)\n",
    "\n",
    "cv2.waitKey(0)\n",
    "cv2.destroyAllWindows()"
   ]
  },
  {
   "cell_type": "code",
   "execution_count": 33,
   "metadata": {},
   "outputs": [],
   "source": [
    "img = cv2.imread('F:/Machine leanring/another dataset/opencv-master/samples/data/line-markings.jpg')\n",
    "imgray = cv2.cvtColor(img, cv2.COLOR_BGR2GRAY)\n",
    "edges = cv2.Canny(imgray, 100, 140, apertureSize = 3 )\n",
    "cv2.imshow(\"Canny_image\", edges )\n",
    "lines = cv2.HoughLinesP(edges, 1, np.pi/180, 100, minLineLength=100, maxLineGap =10)\n",
    "\n",
    "for line in lines:\n",
    "    x1, y1, x2, y2 = line[0]\n",
    "    cv2.line(img, (x1,y1), (x2,y2), (0,0,255), 2)\n",
    "\n",
    "\n",
    "    \n",
    "cv2.imshow(\"Image\", img)\n",
    "\n",
    "cv2.waitKey(0)\n",
    "cv2.destroyAllWindows()"
   ]
  },
  {
   "cell_type": "code",
   "execution_count": null,
   "metadata": {},
   "outputs": [],
   "source": []
  },
  {
   "cell_type": "code",
   "execution_count": 47,
   "metadata": {},
   "outputs": [
    {
     "name": "stdout",
     "output_type": "stream",
     "text": [
      "(540, 960, 3)\n"
     ]
    },
    {
     "data": {
      "image/png": "[encoded data removed]",
      "text/plain": [
       "<Figure size 432x288 with 1 Axes>"
      ]
     },
     "metadata": {
      "needs_background": "light"
     },
     "output_type": "display_data"
    }
   ],
   "source": [
    "img = cv2.imread('F:/Machine leanring/another dataset/opencv-master/samples/data/roads1.jpg')\n",
    "imgray = cv2.cvtColor(img, cv2.COLOR_BGR2GRAY)\n",
    "\n",
    "print(img.shape)\n",
    "height = img.shape[0]\n",
    "width = img.shape[1]\n",
    "region_of_interes_vertices = [\n",
    "    (0, height),\n",
    "    (width/1.83, height/1.83),\n",
    "    (width, height)\n",
    "]\n",
    "def region_of_interest (img, vertices):\n",
    "    mask = np.zeros_like(img)\n",
    "    channel_count = img.shape[2]\n",
    "    match_mask_color = (255,)*channel_count\n",
    "    cv2.fillPoly(mask, vertices, match_mask_color)\n",
    "    masked_image = cv2.bitwise_and(img, mask)\n",
    "    return masked_image\n",
    "\n",
    "cropped_image = region_of_interest(img, np.array([region_of_interes_vertices], np.int32))\n",
    "\n",
    "cv2.imshow(\"Image\", img)\n",
    "plt.imshow(cropped_image)\n",
    "plt.show()\n",
    "cv2.waitKey(0)\n",
    "cv2.destroyAllWindows()"
   ]
  },
  {
   "cell_type": "code",
   "execution_count": null,
   "metadata": {},
   "outputs": [],
   "source": []
  },
  {
   "cell_type": "code",
   "execution_count": 67,
   "metadata": {},
   "outputs": [
    {
     "name": "stdout",
     "output_type": "stream",
     "text": [
      "(540, 960, 3)\n"
     ]
    },
    {
     "data": {
      "text/plain": [
       "<matplotlib.image.AxesImage at 0x1cc67098848>"
      ]
     },
     "execution_count": 67,
     "metadata": {},
     "output_type": "execute_result"
    },
    {
     "data": {
      "image/png": "[encoded data removed]",
      "text/plain": [
       "<Figure size 432x288 with 1 Axes>"
      ]
     },
     "metadata": {
      "needs_background": "light"
     },
     "output_type": "display_data"
    }
   ],
   "source": [
    "\n",
    "def region_of_interest (img, vertices):\n",
    "    mask = np.zeros_like(img)\n",
    "    ##channel_count = img.shape[2]\n",
    "    match_mask_color = 255\n",
    "    cv2.fillPoly(mask, vertices, match_mask_color)\n",
    "    masked_image = cv2.bitwise_and(img, mask)\n",
    "    return masked_image\n",
    "\n",
    "def draw_the_line(img, lines):\n",
    "    copy_image = np.array(img)\n",
    "    blank_img = np.zeros((img.shape[0], img.shape[1], 3), dtype=np.uint8)\n",
    "    \n",
    "    for line in lines:\n",
    "        for x1, y1, x2,y2 in line:\n",
    "            cv2.line(blank_img, (x1, y1), (x2, y2), (0, 255,0), thickness=5)\n",
    "   \n",
    "    img = cv2.addWeighted(img, 0.8, blank_img, 1, 0.0)\n",
    "    return img\n",
    "\n",
    "\n",
    "\n",
    "image = cv2.imread('F:/Machine leanring/another dataset/opencv-master/samples/data/roads1.jpg')\n",
    "##imgray = cv2.cvtColor(image, cv2.COLOR_BGR2GRAY)\n",
    "\n",
    "print(image.shape)\n",
    "height = image.shape[0]\n",
    "width = image.shape[1]\n",
    "region_of_interes_vertices = [\n",
    "    (0, height),\n",
    "    (width/1.83, height/1.83),\n",
    "    (width, height)\n",
    "]\n",
    "\n",
    "\n",
    "gray_scale = cv2.cvtColor(image, cv2.COLOR_RGB2GRAY)\n",
    "canny_img = cv2.Canny(gray_scale, 100, 200)\n",
    "cropped_image = region_of_interest(canny_img, np.array([region_of_interes_vertices], np.int32))\n",
    "lines = cv2.HoughLinesP(cropped_image, rho=6, theta =np.pi/60, threshold = 160, lines=np.array([]), minLineLength=40, maxLineGap =25)\n",
    "\n",
    "\n",
    "image_with_lines = draw_the_line(image, lines)\n",
    "plt.imshow(image_with_lines)\n"
   ]
  },
  {
   "cell_type": "code",
   "execution_count": 2,
   "metadata": {},
   "outputs": [],
   "source": [
    "import cv2\n",
    "import numpy as np\n",
    "import matplotlib.pyplot as plt"
   ]
  },
  {
   "cell_type": "code",
   "execution_count": 5,
   "metadata": {},
   "outputs": [
    {
     "name": "stdout",
     "output_type": "stream",
     "text": [
      "(270, 480, 3)\n"
     ]
    },
    {
     "ename": "TypeError",
     "evalue": "'NoneType' object is not iterable",
     "output_type": "error",
     "traceback": [
      "\u001b[1;31m---------------------------------------------------------------------------\u001b[0m",
      "\u001b[1;31mTypeError\u001b[0m                                 Traceback (most recent call last)",
      "\u001b[1;32m<ipython-input-5-91789489b67a>\u001b[0m in \u001b[0;36m<module>\u001b[1;34m\u001b[0m\n\u001b[0;32m     44\u001b[0m \u001b[1;32mwhile\u001b[0m \u001b[1;33m(\u001b[0m\u001b[0mcap\u001b[0m\u001b[1;33m.\u001b[0m\u001b[0misOpened\u001b[0m\u001b[1;33m(\u001b[0m\u001b[1;33m)\u001b[0m\u001b[1;33m)\u001b[0m\u001b[1;33m:\u001b[0m\u001b[1;33m\u001b[0m\u001b[1;33m\u001b[0m\u001b[0m\n\u001b[0;32m     45\u001b[0m         \u001b[0mret\u001b[0m\u001b[1;33m,\u001b[0m \u001b[0mframe\u001b[0m \u001b[1;33m=\u001b[0m \u001b[0mcap\u001b[0m\u001b[1;33m.\u001b[0m\u001b[0mread\u001b[0m\u001b[1;33m(\u001b[0m\u001b[1;33m)\u001b[0m\u001b[1;33m\u001b[0m\u001b[1;33m\u001b[0m\u001b[0m\n\u001b[1;32m---> 46\u001b[1;33m         \u001b[0mframe\u001b[0m \u001b[1;33m=\u001b[0m \u001b[0mprocess\u001b[0m\u001b[1;33m(\u001b[0m\u001b[0mframe\u001b[0m\u001b[1;33m)\u001b[0m\u001b[1;33m\u001b[0m\u001b[1;33m\u001b[0m\u001b[0m\n\u001b[0m\u001b[0;32m     47\u001b[0m         \u001b[0mcv2\u001b[0m\u001b[1;33m.\u001b[0m\u001b[0mimshow\u001b[0m\u001b[1;33m(\u001b[0m\u001b[1;34m'frame'\u001b[0m\u001b[1;33m,\u001b[0m \u001b[0mframe\u001b[0m\u001b[1;33m)\u001b[0m\u001b[1;33m\u001b[0m\u001b[1;33m\u001b[0m\u001b[0m\n\u001b[0;32m     48\u001b[0m         \u001b[1;32mif\u001b[0m \u001b[0mcv2\u001b[0m\u001b[1;33m.\u001b[0m\u001b[0mwaitKey\u001b[0m\u001b[1;33m(\u001b[0m\u001b[1;36m1\u001b[0m\u001b[1;33m)\u001b[0m \u001b[1;33m&\u001b[0m \u001b[1;36m0xFF\u001b[0m \u001b[1;33m==\u001b[0m\u001b[0mord\u001b[0m\u001b[1;33m(\u001b[0m\u001b[1;34m'q'\u001b[0m\u001b[1;33m)\u001b[0m\u001b[1;33m:\u001b[0m\u001b[1;33m\u001b[0m\u001b[1;33m\u001b[0m\u001b[0m\n",
      "\u001b[1;32m<ipython-input-5-91789489b67a>\u001b[0m in \u001b[0;36mprocess\u001b[1;34m(image)\u001b[0m\n\u001b[0;32m     38\u001b[0m \u001b[1;33m\u001b[0m\u001b[0m\n\u001b[0;32m     39\u001b[0m \u001b[1;33m\u001b[0m\u001b[0m\n\u001b[1;32m---> 40\u001b[1;33m     \u001b[0mimage_with_lines\u001b[0m \u001b[1;33m=\u001b[0m \u001b[0mdraw_the_line\u001b[0m\u001b[1;33m(\u001b[0m\u001b[0mimage\u001b[0m\u001b[1;33m,\u001b[0m \u001b[0mlines\u001b[0m\u001b[1;33m)\u001b[0m\u001b[1;33m\u001b[0m\u001b[1;33m\u001b[0m\u001b[0m\n\u001b[0m\u001b[0;32m     41\u001b[0m     \u001b[1;32mreturn\u001b[0m \u001b[0mimage_with_lines\u001b[0m\u001b[1;33m\u001b[0m\u001b[1;33m\u001b[0m\u001b[0m\n\u001b[0;32m     42\u001b[0m \u001b[1;33m\u001b[0m\u001b[0m\n",
      "\u001b[1;32m<ipython-input-5-91789489b67a>\u001b[0m in \u001b[0;36mdraw_the_line\u001b[1;34m(img, lines)\u001b[0m\n\u001b[0;32m     11\u001b[0m     \u001b[0mblank_img\u001b[0m \u001b[1;33m=\u001b[0m \u001b[0mnp\u001b[0m\u001b[1;33m.\u001b[0m\u001b[0mzeros\u001b[0m\u001b[1;33m(\u001b[0m\u001b[1;33m(\u001b[0m\u001b[0mimg\u001b[0m\u001b[1;33m.\u001b[0m\u001b[0mshape\u001b[0m\u001b[1;33m[\u001b[0m\u001b[1;36m0\u001b[0m\u001b[1;33m]\u001b[0m\u001b[1;33m,\u001b[0m \u001b[0mimg\u001b[0m\u001b[1;33m.\u001b[0m\u001b[0mshape\u001b[0m\u001b[1;33m[\u001b[0m\u001b[1;36m1\u001b[0m\u001b[1;33m]\u001b[0m\u001b[1;33m,\u001b[0m \u001b[1;36m3\u001b[0m\u001b[1;33m)\u001b[0m\u001b[1;33m,\u001b[0m \u001b[0mdtype\u001b[0m\u001b[1;33m=\u001b[0m\u001b[0mnp\u001b[0m\u001b[1;33m.\u001b[0m\u001b[0muint8\u001b[0m\u001b[1;33m)\u001b[0m\u001b[1;33m\u001b[0m\u001b[1;33m\u001b[0m\u001b[0m\n\u001b[0;32m     12\u001b[0m \u001b[1;33m\u001b[0m\u001b[0m\n\u001b[1;32m---> 13\u001b[1;33m     \u001b[1;32mfor\u001b[0m \u001b[0mline\u001b[0m \u001b[1;32min\u001b[0m \u001b[0mlines\u001b[0m\u001b[1;33m:\u001b[0m\u001b[1;33m\u001b[0m\u001b[1;33m\u001b[0m\u001b[0m\n\u001b[0m\u001b[0;32m     14\u001b[0m         \u001b[1;32mfor\u001b[0m \u001b[0mx1\u001b[0m\u001b[1;33m,\u001b[0m \u001b[0my1\u001b[0m\u001b[1;33m,\u001b[0m \u001b[0mx2\u001b[0m\u001b[1;33m,\u001b[0m\u001b[0my2\u001b[0m \u001b[1;32min\u001b[0m \u001b[0mline\u001b[0m\u001b[1;33m:\u001b[0m\u001b[1;33m\u001b[0m\u001b[1;33m\u001b[0m\u001b[0m\n\u001b[0;32m     15\u001b[0m             \u001b[0mcv2\u001b[0m\u001b[1;33m.\u001b[0m\u001b[0mline\u001b[0m\u001b[1;33m(\u001b[0m\u001b[0mblank_img\u001b[0m\u001b[1;33m,\u001b[0m \u001b[1;33m(\u001b[0m\u001b[0mx1\u001b[0m\u001b[1;33m,\u001b[0m \u001b[0my1\u001b[0m\u001b[1;33m)\u001b[0m\u001b[1;33m,\u001b[0m \u001b[1;33m(\u001b[0m\u001b[0mx2\u001b[0m\u001b[1;33m,\u001b[0m \u001b[0my2\u001b[0m\u001b[1;33m)\u001b[0m\u001b[1;33m,\u001b[0m \u001b[1;33m(\u001b[0m\u001b[1;36m0\u001b[0m\u001b[1;33m,\u001b[0m \u001b[1;36m255\u001b[0m\u001b[1;33m,\u001b[0m\u001b[1;36m0\u001b[0m\u001b[1;33m)\u001b[0m\u001b[1;33m,\u001b[0m \u001b[0mthickness\u001b[0m\u001b[1;33m=\u001b[0m\u001b[1;36m5\u001b[0m\u001b[1;33m)\u001b[0m\u001b[1;33m\u001b[0m\u001b[1;33m\u001b[0m\u001b[0m\n",
      "\u001b[1;31mTypeError\u001b[0m: 'NoneType' object is not iterable"
     ]
    }
   ],
   "source": [
    "\n",
    "def region_of_interest (img, vertices):\n",
    "    mask = np.zeros_like(img)\n",
    "    ##channel_count = img.shape[2]\n",
    "    match_mask_color = 255\n",
    "    cv2.fillPoly(mask, vertices, match_mask_color)\n",
    "    masked_image = cv2.bitwise_and(img, mask)\n",
    "    return masked_image\n",
    "\n",
    "def draw_the_line(img, lines):\n",
    "    copy_image = np.array(img)\n",
    "    blank_img = np.zeros((img.shape[0], img.shape[1], 3), dtype=np.uint8)\n",
    "    \n",
    "    for line in lines:\n",
    "        for x1, y1, x2,y2 in line:\n",
    "            cv2.line(blank_img, (x1, y1), (x2, y2), (0, 255,0), thickness=5)\n",
    "   \n",
    "    img = cv2.addWeighted(img, 0.8, blank_img, 1, 0.0)\n",
    "    return img\n",
    "\n",
    "def process (image):\n",
    "    ##image = cv2.imread('F:/Machine leanring/another dataset/opencv-master/samples/data/roads1.jpg')\n",
    "##imgray = cv2.cvtColor(image, cv2.COLOR_BGR2GRAY)\n",
    "\n",
    "    print(image.shape)\n",
    "    height = image.shape[0]\n",
    "    width = image.shape[1]\n",
    "    region_of_interes_vertices = [\n",
    "        (0, height),\n",
    "        (width/1.83, height/1.83),\n",
    "        (width, height)\n",
    "    ]\n",
    "\n",
    "\n",
    "    gray_scale = cv2.cvtColor(image, cv2.COLOR_RGB2GRAY)\n",
    "    canny_img = cv2.Canny(gray_scale, 100, 200)\n",
    "    cropped_image = region_of_interest(canny_img, np.array([region_of_interes_vertices], np.int32))\n",
    "    lines = cv2.HoughLinesP(cropped_image, rho=6, theta =np.pi/60, threshold = 160, lines=np.array([]), minLineLength=40, maxLineGap =25)\n",
    "\n",
    "\n",
    "    image_with_lines = draw_the_line(image, lines)\n",
    "    return image_with_lines\n",
    "    \n",
    "cap = cv2.VideoCapture('F:/Machine leanring/another dataset/opencv-master/samples/data/line_detection.mp4')\n",
    "while (cap.isOpened()):\n",
    "        ret, frame = cap.read()\n",
    "        frame = process(frame)\n",
    "        cv2.imshow('frame', frame)\n",
    "        if cv2.waitKey(1) & 0xFF ==ord('q'):\n",
    "            break\n",
    "\n",
    "cap.release()\n",
    "cv2.destroyAllWindows\n",
    "\n"
   ]
  },
  {
   "cell_type": "code",
   "execution_count": null,
   "metadata": {},
   "outputs": [],
   "source": [
    "##circle detection"
   ]
  },
  {
   "cell_type": "code",
   "execution_count": null,
   "metadata": {},
   "outputs": [],
   "source": [
    "img = cv2.imread('F:/Machine leanring/another dataset/opencv-master/samples/data/smarties.png')\n",
    "output = img.copy()\n",
    "imgray = cv2.cvtColor(img, cv2.COLOR_BGR2GRAY)\n",
    "imgray = cv2.medianBlur(imgray, 5)\n",
    "circles = cv2.HoughCircles(imgray, cv2.HOUGH_GRADIENT, 1, 20, param1=50, \n",
    "                           param2 =30, minRadius =0, maxRadius=0)\n",
    "detected_cir = np.uint16(np.around(circles))\n",
    "\n",
    "for (x,y,r) in detected_cir[0, :]:\n",
    "    cv2.circle(output, (x,y), r, (0,255,0), 3)\n",
    "    cv2.circle(output, (x,y), 2, (0,255,255), 3)\n",
    "cv2.imshow('output', output)\n",
    "cv2.waitKey(0)\n",
    "cv2.destroyAllWindows()"
   ]
  },
  {
   "cell_type": "code",
   "execution_count": 4,
   "metadata": {},
   "outputs": [],
   "source": [
    "img = cv2.imread('F:/Machine leanring/another dataset/opencv-master/samples/data/shapes.png')\n",
    "output = img.copy()\n",
    "imgray = cv2.cvtColor(img, cv2.COLOR_BGR2GRAY)\n",
    "imgray = cv2.medianBlur(imgray, 5)\n",
    "circles = cv2.HoughCircles(imgray, cv2.HOUGH_GRADIENT, 1, 20, param1=50, \n",
    "                           param2 =30, minRadius =0, maxRadius=0)\n",
    "detected_cir = np.uint16(np.around(circles))\n",
    "\n",
    "for (x,y,r) in detected_cir[0, :]:\n",
    "    cv2.circle(output, (x,y), r, (0,255,0), 3)\n",
    "    cv2.circle(output, (x,y), 2, (0,255,255), 3)\n",
    "cv2.imshow('output', output)\n",
    "cv2.waitKey(0)\n",
    "cv2.destroyAllWindows()"
   ]
  },
  {
   "cell_type": "code",
   "execution_count": 5,
   "metadata": {},
   "outputs": [],
   "source": [
    "## Face detection"
   ]
  },
  {
   "cell_type": "code",
   "execution_count": 2,
   "metadata": {},
   "outputs": [],
   "source": [
    "import cv2\n",
    "import numpy as np"
   ]
  },
  {
   "cell_type": "code",
   "execution_count": 21,
   "metadata": {},
   "outputs": [],
   "source": [
    "face_cascade = cv2.CascadeClassifier('F:/Machine leanring/another dataset/opencv-master/samples/data/haarcascade_frontalface_default.xml')\n",
    "img = cv2.imread('F:/Machine leanring/another dataset/opencv-master/samples/data/Rakib_Photo.jpg')\n",
    "gray = cv2.cvtColor(img, cv2.COLOR_BGR2GRAY)\n",
    "faces = face_cascade.detectMultiScale(gray, 1.2, 5)\n",
    "for (x,y,w,h) in faces:\n",
    "    cv2.rectangle(img, (x,y), (x+w, y+h),(0, 255, 255), 3)\n",
    "cv2.imshow('img', img)\n",
    "cv2.waitKey(0)\n",
    "cv2.destroyAllWindows()"
   ]
  },
  {
   "cell_type": "code",
   "execution_count": null,
   "metadata": {},
   "outputs": [],
   "source": [
    "face_cascade = cv2.CascadeClassifier('F:/Machine leanring/another dataset/opencv-master/samples/data/haarcascade_frontalface_default.xml')\n",
    "cap = cv2.VideoCapture(0)\n",
    "#img = cv2.imread('F:/Machine leanring/another dataset/opencv-master/samples/data/Rakib_Photo.jpg')\n",
    "while cap.isOpened():\n",
    "    _, img = cap.read()\n",
    "    gray = cv2.cvtColor(img, cv2.COLOR_BGR2GRAY)\n",
    "    faces = face_cascade.detectMultiScale(gray, 1.2, 5)\n",
    "    \n",
    "    for (x,y,w,h) in faces:\n",
    "        cv2.rectangle(img, (x,y), (x+w, y+h),(0, 255, 255), 3)\n",
    "    cv2.imshow('img', img)\n",
    "    if cv2.waitKey(1) & 0xFF ==ord('p'):\n",
    "        break\n",
    "\n",
    "cap.release()\n"
   ]
  },
  {
   "cell_type": "code",
   "execution_count": null,
   "metadata": {},
   "outputs": [],
   "source": [
    "face_cascade = cv2.CascadeClassifier('F:/Machine leanring/another dataset/opencv-master/samples/data/haarcascade_frontalface_default.xml')\n",
    "eye_cascade = cv2.CascadeClassifier('F:/Machine leanring/another dataset/opencv-master/samples/data/haarcascade_eye_tree_eyeglasses.xml')\n",
    "cap = cv2.VideoCapture(0)\n",
    "#img = cv2.imread('F:/Machine leanring/another dataset/opencv-master/samples/data/Rakib_Photo.jpg')\n",
    "while cap.isOpened():\n",
    "    _, img = cap.read()\n",
    "    gray = cv2.cvtColor(img, cv2.COLOR_BGR2GRAY)\n",
    "    faces = face_cascade.detectMultiScale(gray, 1.2, 5)\n",
    "    \n",
    "    for (x,y,w,h) in faces:\n",
    "        cv2.rectangle(img, (x,y), (x+w, y+h),(0, 255, 255), 3)\n",
    "        roi_gray = gray[y:y+h, x:x+w]\n",
    "        roi_color =img[y:y+h, x:x+w]\n",
    "        eyes = eye_cascade.detectMultiScale(roi_gray)\n",
    "        for (ex, ey, ew,eh) in eyes:\n",
    "            cv2.rectangle(roi_color, (ex,ey), (ex+ew, ey+eh), (255, 255,0), 5)\n",
    "        \n",
    "    cv2.imshow('img', img)\n",
    "    if cv2.waitKey(1) & 0xFF ==ord('q'):\n",
    "        break\n",
    "\n",
    "cap.release()"
   ]
  },
  {
   "cell_type": "code",
   "execution_count": null,
   "metadata": {},
   "outputs": [],
   "source": [
    "## corner detection "
   ]
  },
  {
   "cell_type": "code",
   "execution_count": 4,
   "metadata": {},
   "outputs": [],
   "source": [
    "import cv2\n",
    "import numpy as np"
   ]
  },
  {
   "cell_type": "code",
   "execution_count": 14,
   "metadata": {},
   "outputs": [
    {
     "ename": "error",
     "evalue": "OpenCV(4.2.0) ..\\modules\\imgproc\\src\\color.cpp:182: error: (-215:Assertion failed) !_src.empty() in function 'cv::cvtColor'\n",
     "output_type": "error",
     "traceback": [
      "\u001b[1;31m---------------------------------------------------------------------------\u001b[0m",
      "\u001b[1;31merror\u001b[0m                                     Traceback (most recent call last)",
      "\u001b[1;32m<ipython-input-14-8eacd4c18efd>\u001b[0m in \u001b[0;36m<module>\u001b[1;34m\u001b[0m\n\u001b[0;32m      1\u001b[0m \u001b[0mimg\u001b[0m \u001b[1;33m=\u001b[0m \u001b[0mcv2\u001b[0m\u001b[1;33m.\u001b[0m\u001b[0mimread\u001b[0m\u001b[1;33m(\u001b[0m\u001b[1;34m'F:/Machine leanring/anther dataset/opencv-master/samples/data/chessboard.png'\u001b[0m\u001b[1;33m)\u001b[0m\u001b[1;33m\u001b[0m\u001b[1;33m\u001b[0m\u001b[0m\n\u001b[0;32m      2\u001b[0m \u001b[1;31m#cv2.imshow('Image', img)\u001b[0m\u001b[1;33m\u001b[0m\u001b[1;33m\u001b[0m\u001b[1;33m\u001b[0m\u001b[0m\n\u001b[1;32m----> 3\u001b[1;33m \u001b[0mgray\u001b[0m\u001b[1;33m=\u001b[0m \u001b[0mcv2\u001b[0m\u001b[1;33m.\u001b[0m\u001b[0mcvtColor\u001b[0m\u001b[1;33m(\u001b[0m\u001b[0mimg\u001b[0m\u001b[1;33m,\u001b[0m \u001b[0mcv2\u001b[0m\u001b[1;33m.\u001b[0m\u001b[0mCOLOR_BGR2GRAY\u001b[0m\u001b[1;33m)\u001b[0m\u001b[1;33m\u001b[0m\u001b[1;33m\u001b[0m\u001b[0m\n\u001b[0m\u001b[0;32m      4\u001b[0m \u001b[1;33m\u001b[0m\u001b[0m\n\u001b[0;32m      5\u001b[0m \u001b[0mgray\u001b[0m \u001b[1;33m=\u001b[0m \u001b[0mnp\u001b[0m\u001b[1;33m.\u001b[0m\u001b[0mfloat32\u001b[0m\u001b[1;33m(\u001b[0m\u001b[0mgray\u001b[0m\u001b[1;33m)\u001b[0m\u001b[1;33m\u001b[0m\u001b[1;33m\u001b[0m\u001b[0m\n",
      "\u001b[1;31merror\u001b[0m: OpenCV(4.2.0) ..\\modules\\imgproc\\src\\color.cpp:182: error: (-215:Assertion failed) !_src.empty() in function 'cv::cvtColor'\n"
     ]
    }
   ],
   "source": [
    "img = cv2.imread('F:/Machine leanring/anther dataset/opencv-master/samples/data/chessboard.png')\n",
    "#cv2.imshow('Image', img)\n",
    "gray= cv2.cvtColor(img, cv2.COLOR_BGR2GRAY)\n",
    "\n",
    "gray = np.float32(gray)\n",
    "destination = cv2.cornerHarris(gray, 2,3,0.04)\n",
    "destination = cv2.dilate(destination, None)\n",
    "img[destination> 0.01*destination.max()]=[0, 0, 255]\n",
    "cv2.imshow('destination', img)\n",
    "\n",
    "if cv2.waitKey(0) & 0xFF ==27:\n",
    "    cv2.destroyAllWindows()\n",
    "                               "
   ]
  },
  {
   "cell_type": "code",
   "execution_count": null,
   "metadata": {},
   "outputs": [],
   "source": []
  },
  {
   "cell_type": "code",
   "execution_count": null,
   "metadata": {},
   "outputs": [],
   "source": []
  },
  {
   "cell_type": "code",
   "execution_count": null,
   "metadata": {},
   "outputs": [],
   "source": []
  }
 ],
 "metadata": {
  "kernelspec": {
   "display_name": "Python 3",
   "language": "python",
   "name": "python3"
  },
  "language_info": {
   "codemirror_mode": {
    "name": "ipython",
    "version": 3
   },
   "file_extension": ".py",
   "mimetype": "text/x-python",
   "name": "python",
   "nbconvert_exporter": "python",
   "pygments_lexer": "ipython3",
   "version": "3.7.7"
  }
 },
 "nbformat": 4,
 "nbformat_minor": 4
}
